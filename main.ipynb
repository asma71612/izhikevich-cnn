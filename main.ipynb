{
 "cells": [
  {
   "cell_type": "markdown",
   "metadata": {},
   "source": [
    "#### Step 1. Setup and Imports\n",
    "Create a cell to import all necessary libraries and set up the device."
   ]
  },
  {
   "cell_type": "code",
   "execution_count": 3,
   "metadata": {},
   "outputs": [
    {
     "name": "stdout",
     "output_type": "stream",
     "text": [
      "Using device: cpu\n"
     ]
    }
   ],
   "source": [
    "import torch\n",
    "import torch.nn as nn\n",
    "import torch.optim as optim\n",
    "import torchvision\n",
    "import torchvision.transforms as transforms\n",
    "import numpy as np\n",
    "import matplotlib.pyplot as plt\n",
    "\n",
    "# Use GPU if available\n",
    "device = torch.device(\"cuda\" if torch.cuda.is_available() else \"cpu\")\n",
    "print(\"Using device:\", device)\n"
   ]
  },
  {
   "cell_type": "markdown",
   "metadata": {},
   "source": [
    "#### Step 2. Define the Izhikevich Neuron Module\n",
    "This cell defines the Izhikevich neuron dynamics. We use a simple discrete time approximation."
   ]
  },
  {
   "cell_type": "code",
   "execution_count": 4,
   "metadata": {},
   "outputs": [],
   "source": [
    "# Define the Izhikevich Neuron Module\n",
    "class IzhikevichNeuron(nn.Module):\n",
    "    def __init__(self, a=0.02, b=0.2, c=-65, d=8, v_peak=30):\n",
    "        super(IzhikevichNeuron, self).__init__()\n",
    "        self.a = a\n",
    "        self.b = b\n",
    "        self.c = c\n",
    "        self.d = d\n",
    "        self.v_peak = v_peak\n",
    "\n",
    "    def forward(self, v, u, I, dt=1.0):\n",
    "        # Update membrane potential and recovery variable\n",
    "        dv = (0.04 * v * v + 5 * v + 140 - u + I) * dt\n",
    "        v = v + dv\n",
    "        du = self.a * (self.b * v - u) * dt\n",
    "        u = u + du\n",
    "\n",
    "        # Generate spike (binary output)\n",
    "        spikes = (v >= self.v_peak).float()\n",
    "        # Reset dynamics after spike\n",
    "        v = spikes * self.c + (1 - spikes) * v\n",
    "        u = u + spikes * self.d\n",
    "        return v, u, spikes"
   ]
  },
  {
   "cell_type": "markdown",
   "metadata": {},
   "source": [
    "#### Step 3. Build a Spiking Convolutional Layer\n",
    "This cell creates a convolutional layer that applies a convolution then passes the result through the Izhikevich neuron dynamics over a series of time steps. In a real implementation, you might have a spike-wave tensor (time, batch, channels, height, width)."
   ]
  },
  {
   "cell_type": "code",
   "execution_count": 5,
   "metadata": {},
   "outputs": [
    {
     "name": "stdout",
     "output_type": "stream",
     "text": [
      "Spike output shape: torch.Size([10, 1, 10, 24, 24])\n"
     ]
    }
   ],
   "source": [
    "# Step 3: Define a Spiking Convolutional Layer Using Izhikevich Neurons\n",
    "class SpikingConvLayer(nn.Module):\n",
    "    def __init__(self, in_channels, out_channels, kernel_size, neuron_params, padding=0):\n",
    "        super(SpikingConvLayer, self).__init__()\n",
    "        self.conv = nn.Conv2d(in_channels, out_channels, kernel_size, padding=padding, bias=False)\n",
    "        self.neuron = IzhikevichNeuron(*neuron_params)\n",
    "    \n",
    "    def forward(self, input_spike_wave, time_steps, dt=1.0):\n",
    "        # Assume input_spike_wave shape: [batch, channels, height, width]\n",
    "        # We will simulate over \"time_steps\"\n",
    "        batch_size, _, H, W = input_spike_wave.shape\n",
    "        \n",
    "        # Initialize membrane potential and recovery variable (set to zeros)\n",
    "        # For simplicity, assume spatial dimensions reduce as per convolution parameters.\n",
    "        conv_out = self.conv(input_spike_wave)\n",
    "        v = torch.zeros_like(conv_out).to(input_spike_wave.device)\n",
    "        u = torch.zeros_like(conv_out).to(input_spike_wave.device)\n",
    "        \n",
    "        # Record spikes over time\n",
    "        spike_record = []\n",
    "        for t in range(time_steps):\n",
    "            # For demonstration, use the same convolution output as input current each time step.\n",
    "            # In a more complex model, you may have time-varying input.\n",
    "            I = conv_out  \n",
    "            v, u, spikes = self.neuron(v, u, I, dt)\n",
    "            spike_record.append(spikes)\n",
    "        \n",
    "        # Stack spike outputs: shape [time_steps, batch, out_channels, H_out, W_out]\n",
    "        spike_record = torch.stack(spike_record, dim=0)\n",
    "        return spike_record, v, u\n",
    "\n",
    "# Test the layer with a dummy input\n",
    "dummy_input = torch.rand(1, 1, 28, 28).to(device)\n",
    "layer = SpikingConvLayer(in_channels=1, out_channels=10, kernel_size=5, neuron_params=(0.02, 0.2, -65, 8))\n",
    "spike_output, v_final, u_final = layer(dummy_input, time_steps=10)\n",
    "print(\"Spike output shape:\", spike_output.shape)\n"
   ]
  },
  {
   "cell_type": "markdown",
   "metadata": {},
   "source": [
    "#### Step 4. Data Transformation: Image to Spike-Wave Conversion\n",
    "Here we define a simple transformation that converts an image into a “spike-wave” tensor. In this example, we use a latency coding approach where the intensity is mapped to a spike time."
   ]
  },
  {
   "cell_type": "code",
   "execution_count": 6,
   "metadata": {},
   "outputs": [
    {
     "name": "stderr",
     "output_type": "stream",
     "text": [
      "100%|██████████| 9.91M/9.91M [00:03<00:00, 2.59MB/s]\n",
      "100%|██████████| 28.9k/28.9k [00:00<00:00, 1.10MB/s]\n",
      "100%|██████████| 1.65M/1.65M [00:00<00:00, 9.47MB/s]\n",
      "100%|██████████| 4.54k/4.54k [00:00<00:00, 1.64MB/s]"
     ]
    },
    {
     "name": "stdout",
     "output_type": "stream",
     "text": [
      "Spike-wave shape: torch.Size([10, 1, 28, 28])\n"
     ]
    },
    {
     "name": "stderr",
     "output_type": "stream",
     "text": [
      "\n"
     ]
    },
    {
     "data": {
      "image/png": "[encoded data removed]",
      "text/plain": [
       "<Figure size 640x480 with 1 Axes>"
      ]
     },
     "metadata": {},
     "output_type": "display_data"
    }
   ],
   "source": [
    "# Step 4: Data Transformation - Convert Images to Spike-Wave Tensors\n",
    "def image_to_spike_wave(image, time_steps=10, threshold=0.5):\n",
    "    \"\"\"\n",
    "    Convert an image tensor [C, H, W] into a spike-wave tensor [time_steps, C, H, W].\n",
    "    A simple threshold-based latency coding is used.\n",
    "    \"\"\"\n",
    "    # Normalize image to [0, 1] if necessary\n",
    "    image = image / image.max()\n",
    "    # Determine spike time: lower intensity = later spike\n",
    "    # Here we simply invert the image intensity and scale to time steps.\n",
    "    spike_times = (1 - image) * (time_steps - 1)\n",
    "    spike_times = spike_times.long()\n",
    "    \n",
    "    # Create a binary spike-wave tensor\n",
    "    C, H, W = image.shape\n",
    "    spike_wave = torch.zeros(time_steps, C, H, W)\n",
    "    for t in range(time_steps):\n",
    "        spike_wave[t] = (spike_times <= t).float()  # Spike becomes 1 from its spike time onward\n",
    "    return spike_wave\n",
    "\n",
    "# Test the transformation on a sample image from MNIST\n",
    "transform = transforms.Compose([\n",
    "    transforms.ToTensor()\n",
    "])\n",
    "mnist_sample = transform(torchvision.datasets.MNIST(root='./data', train=True, download=True)[0][0])\n",
    "spike_wave_sample = image_to_spike_wave(mnist_sample, time_steps=10)\n",
    "print(\"Spike-wave shape:\", spike_wave_sample.shape)\n",
    "plt.imshow(spike_wave_sample[-1][0].numpy(), cmap='gray')\n",
    "plt.title(\"Spike-wave at final time step\")\n",
    "plt.show()\n"
   ]
  },
  {
   "cell_type": "markdown",
   "metadata": {},
   "source": [
    "#### Step 5. Define the Overall Network Architecture\n",
    "This cell defines a simple network with two spiking convolutional layers and a fully connected layer for classification."
   ]
  },
  {
   "cell_type": "code",
   "execution_count": 7,
   "metadata": {},
   "outputs": [
    {
     "ename": "ValueError",
     "evalue": "too many values to unpack (expected 3)",
     "output_type": "error",
     "traceback": [
      "\u001b[0;31m---------------------------------------------------------------------------\u001b[0m",
      "\u001b[0;31mValueError\u001b[0m                                Traceback (most recent call last)",
      "Cell \u001b[0;32mIn[7], line 39\u001b[0m\n\u001b[1;32m     37\u001b[0m model \u001b[38;5;241m=\u001b[39m SpikingCNN(neuron_params\u001b[38;5;241m=\u001b[39mneuron_params, time_steps\u001b[38;5;241m=\u001b[39m\u001b[38;5;241m10\u001b[39m)\u001b[38;5;241m.\u001b[39mto(device)\n\u001b[1;32m     38\u001b[0m sample_image \u001b[38;5;241m=\u001b[39m mnist_sample\u001b[38;5;241m.\u001b[39munsqueeze(\u001b[38;5;241m0\u001b[39m)\u001b[38;5;241m.\u001b[39mto(device)  \u001b[38;5;66;03m# add batch dimension\u001b[39;00m\n\u001b[0;32m---> 39\u001b[0m output \u001b[38;5;241m=\u001b[39m \u001b[43mmodel\u001b[49m\u001b[43m(\u001b[49m\u001b[43msample_image\u001b[49m\u001b[43m)\u001b[49m\n\u001b[1;32m     40\u001b[0m \u001b[38;5;28mprint\u001b[39m(\u001b[38;5;124m\"\u001b[39m\u001b[38;5;124mNetwork output shape:\u001b[39m\u001b[38;5;124m\"\u001b[39m, output\u001b[38;5;241m.\u001b[39mshape)\n",
      "File \u001b[0;32m~/.pyenv/versions/3.9.18/lib/python3.9/site-packages/torch/nn/modules/module.py:1739\u001b[0m, in \u001b[0;36mModule._wrapped_call_impl\u001b[0;34m(self, *args, **kwargs)\u001b[0m\n\u001b[1;32m   1737\u001b[0m     \u001b[38;5;28;01mreturn\u001b[39;00m \u001b[38;5;28mself\u001b[39m\u001b[38;5;241m.\u001b[39m_compiled_call_impl(\u001b[38;5;241m*\u001b[39margs, \u001b[38;5;241m*\u001b[39m\u001b[38;5;241m*\u001b[39mkwargs)  \u001b[38;5;66;03m# type: ignore[misc]\u001b[39;00m\n\u001b[1;32m   1738\u001b[0m \u001b[38;5;28;01melse\u001b[39;00m:\n\u001b[0;32m-> 1739\u001b[0m     \u001b[38;5;28;01mreturn\u001b[39;00m \u001b[38;5;28;43mself\u001b[39;49m\u001b[38;5;241;43m.\u001b[39;49m\u001b[43m_call_impl\u001b[49m\u001b[43m(\u001b[49m\u001b[38;5;241;43m*\u001b[39;49m\u001b[43margs\u001b[49m\u001b[43m,\u001b[49m\u001b[43m \u001b[49m\u001b[38;5;241;43m*\u001b[39;49m\u001b[38;5;241;43m*\u001b[39;49m\u001b[43mkwargs\u001b[49m\u001b[43m)\u001b[49m\n",
      "File \u001b[0;32m~/.pyenv/versions/3.9.18/lib/python3.9/site-packages/torch/nn/modules/module.py:1750\u001b[0m, in \u001b[0;36mModule._call_impl\u001b[0;34m(self, *args, **kwargs)\u001b[0m\n\u001b[1;32m   1745\u001b[0m \u001b[38;5;66;03m# If we don't have any hooks, we want to skip the rest of the logic in\u001b[39;00m\n\u001b[1;32m   1746\u001b[0m \u001b[38;5;66;03m# this function, and just call forward.\u001b[39;00m\n\u001b[1;32m   1747\u001b[0m \u001b[38;5;28;01mif\u001b[39;00m \u001b[38;5;129;01mnot\u001b[39;00m (\u001b[38;5;28mself\u001b[39m\u001b[38;5;241m.\u001b[39m_backward_hooks \u001b[38;5;129;01mor\u001b[39;00m \u001b[38;5;28mself\u001b[39m\u001b[38;5;241m.\u001b[39m_backward_pre_hooks \u001b[38;5;129;01mor\u001b[39;00m \u001b[38;5;28mself\u001b[39m\u001b[38;5;241m.\u001b[39m_forward_hooks \u001b[38;5;129;01mor\u001b[39;00m \u001b[38;5;28mself\u001b[39m\u001b[38;5;241m.\u001b[39m_forward_pre_hooks\n\u001b[1;32m   1748\u001b[0m         \u001b[38;5;129;01mor\u001b[39;00m _global_backward_pre_hooks \u001b[38;5;129;01mor\u001b[39;00m _global_backward_hooks\n\u001b[1;32m   1749\u001b[0m         \u001b[38;5;129;01mor\u001b[39;00m _global_forward_hooks \u001b[38;5;129;01mor\u001b[39;00m _global_forward_pre_hooks):\n\u001b[0;32m-> 1750\u001b[0m     \u001b[38;5;28;01mreturn\u001b[39;00m \u001b[43mforward_call\u001b[49m\u001b[43m(\u001b[49m\u001b[38;5;241;43m*\u001b[39;49m\u001b[43margs\u001b[49m\u001b[43m,\u001b[49m\u001b[43m \u001b[49m\u001b[38;5;241;43m*\u001b[39;49m\u001b[38;5;241;43m*\u001b[39;49m\u001b[43mkwargs\u001b[49m\u001b[43m)\u001b[49m\n\u001b[1;32m   1752\u001b[0m result \u001b[38;5;241m=\u001b[39m \u001b[38;5;28;01mNone\u001b[39;00m\n\u001b[1;32m   1753\u001b[0m called_always_called_hooks \u001b[38;5;241m=\u001b[39m \u001b[38;5;28mset\u001b[39m()\n",
      "Cell \u001b[0;32mIn[7], line 17\u001b[0m, in \u001b[0;36mSpikingCNN.forward\u001b[0;34m(self, input_image)\u001b[0m\n\u001b[1;32m     15\u001b[0m \u001b[38;5;28;01mdef\u001b[39;00m\u001b[38;5;250m \u001b[39m\u001b[38;5;21mforward\u001b[39m(\u001b[38;5;28mself\u001b[39m, input_image):\n\u001b[1;32m     16\u001b[0m     \u001b[38;5;66;03m# Convert image to spike-wave representation\u001b[39;00m\n\u001b[0;32m---> 17\u001b[0m     spike_wave \u001b[38;5;241m=\u001b[39m \u001b[43mimage_to_spike_wave\u001b[49m\u001b[43m(\u001b[49m\u001b[43minput_image\u001b[49m\u001b[43m,\u001b[49m\u001b[43m \u001b[49m\u001b[43mtime_steps\u001b[49m\u001b[38;5;241;43m=\u001b[39;49m\u001b[38;5;28;43mself\u001b[39;49m\u001b[38;5;241;43m.\u001b[39;49m\u001b[43mtime_steps\u001b[49m\u001b[43m)\u001b[49m  \u001b[38;5;66;03m# shape: [T, C, H, W]\u001b[39;00m\n\u001b[1;32m     19\u001b[0m     \u001b[38;5;66;03m# Add batch dimension if needed: assume input_image shape [1, C, H, W]\u001b[39;00m\n\u001b[1;32m     20\u001b[0m     spike_wave \u001b[38;5;241m=\u001b[39m spike_wave\u001b[38;5;241m.\u001b[39mto(device)\n",
      "Cell \u001b[0;32mIn[6], line 15\u001b[0m, in \u001b[0;36mimage_to_spike_wave\u001b[0;34m(image, time_steps, threshold)\u001b[0m\n\u001b[1;32m     12\u001b[0m spike_times \u001b[38;5;241m=\u001b[39m spike_times\u001b[38;5;241m.\u001b[39mlong()\n\u001b[1;32m     14\u001b[0m \u001b[38;5;66;03m# Create a binary spike-wave tensor\u001b[39;00m\n\u001b[0;32m---> 15\u001b[0m C, H, W \u001b[38;5;241m=\u001b[39m image\u001b[38;5;241m.\u001b[39mshape\n\u001b[1;32m     16\u001b[0m spike_wave \u001b[38;5;241m=\u001b[39m torch\u001b[38;5;241m.\u001b[39mzeros(time_steps, C, H, W)\n\u001b[1;32m     17\u001b[0m \u001b[38;5;28;01mfor\u001b[39;00m t \u001b[38;5;129;01min\u001b[39;00m \u001b[38;5;28mrange\u001b[39m(time_steps):\n",
      "\u001b[0;31mValueError\u001b[0m: too many values to unpack (expected 3)"
     ]
    }
   ],
   "source": [
    "# Step 5: Define the Overall Spiking CNN Architecture\n",
    "class SpikingCNN(nn.Module):\n",
    "    def __init__(self, neuron_params, time_steps=10):\n",
    "        super(SpikingCNN, self).__init__()\n",
    "        self.time_steps = time_steps\n",
    "        \n",
    "        # Define two spiking convolutional layers\n",
    "        self.layer1 = SpikingConvLayer(in_channels=1, out_channels=20, kernel_size=5, neuron_params=neuron_params, padding=2)\n",
    "        self.layer2 = SpikingConvLayer(in_channels=20, out_channels=50, kernel_size=5, neuron_params=neuron_params, padding=2)\n",
    "        \n",
    "        # Fully connected layer for classification\n",
    "        # Here, we assume the final spatial dimension remains 28x28; adjust pooling as needed.\n",
    "        self.fc = nn.Linear(50 * 28 * 28, 10)\n",
    "    \n",
    "    def forward(self, input_image):\n",
    "        # Convert image to spike-wave representation\n",
    "        spike_wave = image_to_spike_wave(input_image, time_steps=self.time_steps)  # shape: [T, C, H, W]\n",
    "        \n",
    "        # Add batch dimension if needed: assume input_image shape [1, C, H, W]\n",
    "        spike_wave = spike_wave.to(device)\n",
    "        \n",
    "        # Process through first spiking conv layer (apply on the last time slice or accumulate over time)\n",
    "        spikes1, v1, u1 = self.layer1(spike_wave, self.time_steps)\n",
    "        # For simplicity, take the last time-step output (or use pooling over time)\n",
    "        spikes1_last = spikes1[-1]\n",
    "        \n",
    "        spikes2, v2, u2 = self.layer2(spikes1_last, self.time_steps)\n",
    "        spikes2_last = spikes2[-1]\n",
    "        \n",
    "        # Flatten and feed into fully connected layer\n",
    "        out_flat = spikes2_last.view(spikes2_last.size(0), -1)\n",
    "        out = self.fc(out_flat)\n",
    "        return out\n",
    "\n",
    "# Instantiate the network and test on a single image\n",
    "neuron_params = (0.02, 0.2, -65, 8)\n",
    "model = SpikingCNN(neuron_params=neuron_params, time_steps=10).to(device)\n",
    "sample_image = mnist_sample.unsqueeze(0).to(device)  # add batch dimension\n",
    "output = model(sample_image)\n",
    "print(\"Network output shape:\", output.shape)\n"
   ]
  },
  {
   "cell_type": "markdown",
   "metadata": {},
   "source": [
    "#### Step 6. Define Training Functions Including STDP/R-STDP Placeholders\n",
    "In this cell we create a training loop. The code includes a standard loss–backpropagation branch for demonstration and placeholders for incorporating STDP or reward-modulated STDP. (In a complete spiking network, you might replace backprop with your plasticity rules.)"
   ]
  },
  {
   "cell_type": "code",
   "execution_count": 8,
   "metadata": {},
   "outputs": [
    {
     "ename": "ValueError",
     "evalue": "too many values to unpack (expected 3)",
     "output_type": "error",
     "traceback": [
      "\u001b[0;31m---------------------------------------------------------------------------\u001b[0m",
      "\u001b[0;31mValueError\u001b[0m                                Traceback (most recent call last)",
      "Cell \u001b[0;32mIn[8], line 51\u001b[0m\n\u001b[1;32m     49\u001b[0m \u001b[38;5;66;03m# Train for a few epochs\u001b[39;00m\n\u001b[1;32m     50\u001b[0m \u001b[38;5;28;01mfor\u001b[39;00m epoch \u001b[38;5;129;01min\u001b[39;00m \u001b[38;5;28mrange\u001b[39m(\u001b[38;5;241m1\u001b[39m, \u001b[38;5;241m4\u001b[39m):\n\u001b[0;32m---> 51\u001b[0m     avg_loss \u001b[38;5;241m=\u001b[39m \u001b[43mtrain_epoch\u001b[49m\u001b[43m(\u001b[49m\u001b[43mmodel\u001b[49m\u001b[43m,\u001b[49m\u001b[43m \u001b[49m\u001b[43mtrain_loader\u001b[49m\u001b[43m,\u001b[49m\u001b[43m \u001b[49m\u001b[43moptimizer\u001b[49m\u001b[43m,\u001b[49m\u001b[43m \u001b[49m\u001b[43mcriterion\u001b[49m\u001b[43m,\u001b[49m\u001b[43m \u001b[49m\u001b[43mepoch\u001b[49m\u001b[43m)\u001b[49m\n\u001b[1;32m     52\u001b[0m     \u001b[38;5;28mprint\u001b[39m(\u001b[38;5;124mf\u001b[39m\u001b[38;5;124m\"\u001b[39m\u001b[38;5;124mAverage Loss for epoch \u001b[39m\u001b[38;5;132;01m{\u001b[39;00mepoch\u001b[38;5;132;01m}\u001b[39;00m\u001b[38;5;124m: \u001b[39m\u001b[38;5;132;01m{\u001b[39;00mavg_loss\u001b[38;5;132;01m:\u001b[39;00m\u001b[38;5;124m.4f\u001b[39m\u001b[38;5;132;01m}\u001b[39;00m\u001b[38;5;124m\"\u001b[39m)\n",
      "Cell \u001b[0;32mIn[8], line 15\u001b[0m, in \u001b[0;36mtrain_epoch\u001b[0;34m(model, data_loader, optimizer, criterion, epoch)\u001b[0m\n\u001b[1;32m     13\u001b[0m \u001b[38;5;28;01mfor\u001b[39;00m img \u001b[38;5;129;01min\u001b[39;00m images:\n\u001b[1;32m     14\u001b[0m     img \u001b[38;5;241m=\u001b[39m img\u001b[38;5;241m.\u001b[39munsqueeze(\u001b[38;5;241m0\u001b[39m)  \u001b[38;5;66;03m# add batch dimension\u001b[39;00m\n\u001b[0;32m---> 15\u001b[0m     output \u001b[38;5;241m=\u001b[39m \u001b[43mmodel\u001b[49m\u001b[43m(\u001b[49m\u001b[43mimg\u001b[49m\u001b[43m)\u001b[49m\n\u001b[1;32m     16\u001b[0m     outputs\u001b[38;5;241m.\u001b[39mappend(output)\n\u001b[1;32m     17\u001b[0m outputs \u001b[38;5;241m=\u001b[39m torch\u001b[38;5;241m.\u001b[39mcat(outputs, dim\u001b[38;5;241m=\u001b[39m\u001b[38;5;241m0\u001b[39m)\n",
      "File \u001b[0;32m~/.pyenv/versions/3.9.18/lib/python3.9/site-packages/torch/nn/modules/module.py:1739\u001b[0m, in \u001b[0;36mModule._wrapped_call_impl\u001b[0;34m(self, *args, **kwargs)\u001b[0m\n\u001b[1;32m   1737\u001b[0m     \u001b[38;5;28;01mreturn\u001b[39;00m \u001b[38;5;28mself\u001b[39m\u001b[38;5;241m.\u001b[39m_compiled_call_impl(\u001b[38;5;241m*\u001b[39margs, \u001b[38;5;241m*\u001b[39m\u001b[38;5;241m*\u001b[39mkwargs)  \u001b[38;5;66;03m# type: ignore[misc]\u001b[39;00m\n\u001b[1;32m   1738\u001b[0m \u001b[38;5;28;01melse\u001b[39;00m:\n\u001b[0;32m-> 1739\u001b[0m     \u001b[38;5;28;01mreturn\u001b[39;00m \u001b[38;5;28;43mself\u001b[39;49m\u001b[38;5;241;43m.\u001b[39;49m\u001b[43m_call_impl\u001b[49m\u001b[43m(\u001b[49m\u001b[38;5;241;43m*\u001b[39;49m\u001b[43margs\u001b[49m\u001b[43m,\u001b[49m\u001b[43m \u001b[49m\u001b[38;5;241;43m*\u001b[39;49m\u001b[38;5;241;43m*\u001b[39;49m\u001b[43mkwargs\u001b[49m\u001b[43m)\u001b[49m\n",
      "File \u001b[0;32m~/.pyenv/versions/3.9.18/lib/python3.9/site-packages/torch/nn/modules/module.py:1750\u001b[0m, in \u001b[0;36mModule._call_impl\u001b[0;34m(self, *args, **kwargs)\u001b[0m\n\u001b[1;32m   1745\u001b[0m \u001b[38;5;66;03m# If we don't have any hooks, we want to skip the rest of the logic in\u001b[39;00m\n\u001b[1;32m   1746\u001b[0m \u001b[38;5;66;03m# this function, and just call forward.\u001b[39;00m\n\u001b[1;32m   1747\u001b[0m \u001b[38;5;28;01mif\u001b[39;00m \u001b[38;5;129;01mnot\u001b[39;00m (\u001b[38;5;28mself\u001b[39m\u001b[38;5;241m.\u001b[39m_backward_hooks \u001b[38;5;129;01mor\u001b[39;00m \u001b[38;5;28mself\u001b[39m\u001b[38;5;241m.\u001b[39m_backward_pre_hooks \u001b[38;5;129;01mor\u001b[39;00m \u001b[38;5;28mself\u001b[39m\u001b[38;5;241m.\u001b[39m_forward_hooks \u001b[38;5;129;01mor\u001b[39;00m \u001b[38;5;28mself\u001b[39m\u001b[38;5;241m.\u001b[39m_forward_pre_hooks\n\u001b[1;32m   1748\u001b[0m         \u001b[38;5;129;01mor\u001b[39;00m _global_backward_pre_hooks \u001b[38;5;129;01mor\u001b[39;00m _global_backward_hooks\n\u001b[1;32m   1749\u001b[0m         \u001b[38;5;129;01mor\u001b[39;00m _global_forward_hooks \u001b[38;5;129;01mor\u001b[39;00m _global_forward_pre_hooks):\n\u001b[0;32m-> 1750\u001b[0m     \u001b[38;5;28;01mreturn\u001b[39;00m \u001b[43mforward_call\u001b[49m\u001b[43m(\u001b[49m\u001b[38;5;241;43m*\u001b[39;49m\u001b[43margs\u001b[49m\u001b[43m,\u001b[49m\u001b[43m \u001b[49m\u001b[38;5;241;43m*\u001b[39;49m\u001b[38;5;241;43m*\u001b[39;49m\u001b[43mkwargs\u001b[49m\u001b[43m)\u001b[49m\n\u001b[1;32m   1752\u001b[0m result \u001b[38;5;241m=\u001b[39m \u001b[38;5;28;01mNone\u001b[39;00m\n\u001b[1;32m   1753\u001b[0m called_always_called_hooks \u001b[38;5;241m=\u001b[39m \u001b[38;5;28mset\u001b[39m()\n",
      "Cell \u001b[0;32mIn[7], line 17\u001b[0m, in \u001b[0;36mSpikingCNN.forward\u001b[0;34m(self, input_image)\u001b[0m\n\u001b[1;32m     15\u001b[0m \u001b[38;5;28;01mdef\u001b[39;00m\u001b[38;5;250m \u001b[39m\u001b[38;5;21mforward\u001b[39m(\u001b[38;5;28mself\u001b[39m, input_image):\n\u001b[1;32m     16\u001b[0m     \u001b[38;5;66;03m# Convert image to spike-wave representation\u001b[39;00m\n\u001b[0;32m---> 17\u001b[0m     spike_wave \u001b[38;5;241m=\u001b[39m \u001b[43mimage_to_spike_wave\u001b[49m\u001b[43m(\u001b[49m\u001b[43minput_image\u001b[49m\u001b[43m,\u001b[49m\u001b[43m \u001b[49m\u001b[43mtime_steps\u001b[49m\u001b[38;5;241;43m=\u001b[39;49m\u001b[38;5;28;43mself\u001b[39;49m\u001b[38;5;241;43m.\u001b[39;49m\u001b[43mtime_steps\u001b[49m\u001b[43m)\u001b[49m  \u001b[38;5;66;03m# shape: [T, C, H, W]\u001b[39;00m\n\u001b[1;32m     19\u001b[0m     \u001b[38;5;66;03m# Add batch dimension if needed: assume input_image shape [1, C, H, W]\u001b[39;00m\n\u001b[1;32m     20\u001b[0m     spike_wave \u001b[38;5;241m=\u001b[39m spike_wave\u001b[38;5;241m.\u001b[39mto(device)\n",
      "Cell \u001b[0;32mIn[6], line 15\u001b[0m, in \u001b[0;36mimage_to_spike_wave\u001b[0;34m(image, time_steps, threshold)\u001b[0m\n\u001b[1;32m     12\u001b[0m spike_times \u001b[38;5;241m=\u001b[39m spike_times\u001b[38;5;241m.\u001b[39mlong()\n\u001b[1;32m     14\u001b[0m \u001b[38;5;66;03m# Create a binary spike-wave tensor\u001b[39;00m\n\u001b[0;32m---> 15\u001b[0m C, H, W \u001b[38;5;241m=\u001b[39m image\u001b[38;5;241m.\u001b[39mshape\n\u001b[1;32m     16\u001b[0m spike_wave \u001b[38;5;241m=\u001b[39m torch\u001b[38;5;241m.\u001b[39mzeros(time_steps, C, H, W)\n\u001b[1;32m     17\u001b[0m \u001b[38;5;28;01mfor\u001b[39;00m t \u001b[38;5;129;01min\u001b[39;00m \u001b[38;5;28mrange\u001b[39m(time_steps):\n",
      "\u001b[0;31mValueError\u001b[0m: too many values to unpack (expected 3)"
     ]
    }
   ],
   "source": [
    "# Step 6: Training Loop and STDP/R-STDP Placeholders\n",
    "def train_epoch(model, data_loader, optimizer, criterion, epoch):\n",
    "    model.train()\n",
    "    running_loss = 0.0\n",
    "    for batch_idx, (images, labels) in enumerate(data_loader):\n",
    "        # Move data to device\n",
    "        images, labels = images.to(device), labels.to(device)\n",
    "        # For simplicity, process one image at a time\n",
    "        optimizer.zero_grad()\n",
    "        \n",
    "        # Process each image individually (or modify for batch processing)\n",
    "        outputs = []\n",
    "        for img in images:\n",
    "            img = img.unsqueeze(0)  # add batch dimension\n",
    "            output = model(img)\n",
    "            outputs.append(output)\n",
    "        outputs = torch.cat(outputs, dim=0)\n",
    "        \n",
    "        loss = criterion(outputs, labels)\n",
    "        loss.backward()\n",
    "        optimizer.step()\n",
    "        \n",
    "        running_loss += loss.item()\n",
    "        \n",
    "        # ----- STDP / R-STDP Placeholder -----\n",
    "        # Here you would add your custom plasticity rule updates (STDP / R-STDP)\n",
    "        # For example:\n",
    "        # if correct_prediction:\n",
    "        #     apply_reward_modulation()\n",
    "        # else:\n",
    "        #     apply_punishment_modulation()\n",
    "        # --------------------------------------\n",
    "        \n",
    "        if batch_idx % 100 == 0:\n",
    "            print(f\"Epoch [{epoch}], Batch [{batch_idx}], Loss: {loss.item():.4f}\")\n",
    "    return running_loss / len(data_loader)\n",
    "\n",
    "# Setup MNIST dataset and DataLoader\n",
    "transform_mnist = transforms.Compose([\n",
    "    transforms.ToTensor(),\n",
    "])\n",
    "train_dataset = torchvision.datasets.MNIST(root='./data', train=True, download=True, transform=transform_mnist)\n",
    "train_loader = torch.utils.data.DataLoader(train_dataset, batch_size=32, shuffle=True)\n",
    "\n",
    "# Define loss function and optimizer\n",
    "criterion = nn.CrossEntropyLoss()\n",
    "optimizer = optim.Adam(model.parameters(), lr=1e-3)\n",
    "\n",
    "# Train for a few epochs\n",
    "for epoch in range(1, 4):\n",
    "    avg_loss = train_epoch(model, train_loader, optimizer, criterion, epoch)\n",
    "    print(f\"Average Loss for epoch {epoch}: {avg_loss:.4f}\")\n"
   ]
  },
  {
   "cell_type": "markdown",
   "metadata": {},
   "source": [
    "#### Step 7. Evaluation\n",
    "Finally, add a cell to evaluate your network on the test dataset."
   ]
  },
  {
   "cell_type": "code",
   "execution_count": 9,
   "metadata": {},
   "outputs": [
    {
     "ename": "ValueError",
     "evalue": "too many values to unpack (expected 3)",
     "output_type": "error",
     "traceback": [
      "\u001b[0;31m---------------------------------------------------------------------------\u001b[0m",
      "\u001b[0;31mValueError\u001b[0m                                Traceback (most recent call last)",
      "Cell \u001b[0;32mIn[9], line 25\u001b[0m\n\u001b[1;32m     22\u001b[0m test_loader \u001b[38;5;241m=\u001b[39m torch\u001b[38;5;241m.\u001b[39mutils\u001b[38;5;241m.\u001b[39mdata\u001b[38;5;241m.\u001b[39mDataLoader(test_dataset, batch_size\u001b[38;5;241m=\u001b[39m\u001b[38;5;241m32\u001b[39m, shuffle\u001b[38;5;241m=\u001b[39m\u001b[38;5;28;01mFalse\u001b[39;00m)\n\u001b[1;32m     24\u001b[0m \u001b[38;5;66;03m# Evaluate the model\u001b[39;00m\n\u001b[0;32m---> 25\u001b[0m \u001b[43mevaluate\u001b[49m\u001b[43m(\u001b[49m\u001b[43mmodel\u001b[49m\u001b[43m,\u001b[49m\u001b[43m \u001b[49m\u001b[43mtest_loader\u001b[49m\u001b[43m)\u001b[49m\n",
      "Cell \u001b[0;32mIn[9], line 12\u001b[0m, in \u001b[0;36mevaluate\u001b[0;34m(model, data_loader)\u001b[0m\n\u001b[1;32m     10\u001b[0m \u001b[38;5;28;01mfor\u001b[39;00m img \u001b[38;5;129;01min\u001b[39;00m images:\n\u001b[1;32m     11\u001b[0m     img \u001b[38;5;241m=\u001b[39m img\u001b[38;5;241m.\u001b[39munsqueeze(\u001b[38;5;241m0\u001b[39m)\n\u001b[0;32m---> 12\u001b[0m     output \u001b[38;5;241m=\u001b[39m \u001b[43mmodel\u001b[49m\u001b[43m(\u001b[49m\u001b[43mimg\u001b[49m\u001b[43m)\u001b[49m\n\u001b[1;32m     13\u001b[0m     outputs\u001b[38;5;241m.\u001b[39mappend(output)\n\u001b[1;32m     14\u001b[0m outputs \u001b[38;5;241m=\u001b[39m torch\u001b[38;5;241m.\u001b[39mcat(outputs, dim\u001b[38;5;241m=\u001b[39m\u001b[38;5;241m0\u001b[39m)\n",
      "File \u001b[0;32m~/.pyenv/versions/3.9.18/lib/python3.9/site-packages/torch/nn/modules/module.py:1739\u001b[0m, in \u001b[0;36mModule._wrapped_call_impl\u001b[0;34m(self, *args, **kwargs)\u001b[0m\n\u001b[1;32m   1737\u001b[0m     \u001b[38;5;28;01mreturn\u001b[39;00m \u001b[38;5;28mself\u001b[39m\u001b[38;5;241m.\u001b[39m_compiled_call_impl(\u001b[38;5;241m*\u001b[39margs, \u001b[38;5;241m*\u001b[39m\u001b[38;5;241m*\u001b[39mkwargs)  \u001b[38;5;66;03m# type: ignore[misc]\u001b[39;00m\n\u001b[1;32m   1738\u001b[0m \u001b[38;5;28;01melse\u001b[39;00m:\n\u001b[0;32m-> 1739\u001b[0m     \u001b[38;5;28;01mreturn\u001b[39;00m \u001b[38;5;28;43mself\u001b[39;49m\u001b[38;5;241;43m.\u001b[39;49m\u001b[43m_call_impl\u001b[49m\u001b[43m(\u001b[49m\u001b[38;5;241;43m*\u001b[39;49m\u001b[43margs\u001b[49m\u001b[43m,\u001b[49m\u001b[43m \u001b[49m\u001b[38;5;241;43m*\u001b[39;49m\u001b[38;5;241;43m*\u001b[39;49m\u001b[43mkwargs\u001b[49m\u001b[43m)\u001b[49m\n",
      "File \u001b[0;32m~/.pyenv/versions/3.9.18/lib/python3.9/site-packages/torch/nn/modules/module.py:1750\u001b[0m, in \u001b[0;36mModule._call_impl\u001b[0;34m(self, *args, **kwargs)\u001b[0m\n\u001b[1;32m   1745\u001b[0m \u001b[38;5;66;03m# If we don't have any hooks, we want to skip the rest of the logic in\u001b[39;00m\n\u001b[1;32m   1746\u001b[0m \u001b[38;5;66;03m# this function, and just call forward.\u001b[39;00m\n\u001b[1;32m   1747\u001b[0m \u001b[38;5;28;01mif\u001b[39;00m \u001b[38;5;129;01mnot\u001b[39;00m (\u001b[38;5;28mself\u001b[39m\u001b[38;5;241m.\u001b[39m_backward_hooks \u001b[38;5;129;01mor\u001b[39;00m \u001b[38;5;28mself\u001b[39m\u001b[38;5;241m.\u001b[39m_backward_pre_hooks \u001b[38;5;129;01mor\u001b[39;00m \u001b[38;5;28mself\u001b[39m\u001b[38;5;241m.\u001b[39m_forward_hooks \u001b[38;5;129;01mor\u001b[39;00m \u001b[38;5;28mself\u001b[39m\u001b[38;5;241m.\u001b[39m_forward_pre_hooks\n\u001b[1;32m   1748\u001b[0m         \u001b[38;5;129;01mor\u001b[39;00m _global_backward_pre_hooks \u001b[38;5;129;01mor\u001b[39;00m _global_backward_hooks\n\u001b[1;32m   1749\u001b[0m         \u001b[38;5;129;01mor\u001b[39;00m _global_forward_hooks \u001b[38;5;129;01mor\u001b[39;00m _global_forward_pre_hooks):\n\u001b[0;32m-> 1750\u001b[0m     \u001b[38;5;28;01mreturn\u001b[39;00m \u001b[43mforward_call\u001b[49m\u001b[43m(\u001b[49m\u001b[38;5;241;43m*\u001b[39;49m\u001b[43margs\u001b[49m\u001b[43m,\u001b[49m\u001b[43m \u001b[49m\u001b[38;5;241;43m*\u001b[39;49m\u001b[38;5;241;43m*\u001b[39;49m\u001b[43mkwargs\u001b[49m\u001b[43m)\u001b[49m\n\u001b[1;32m   1752\u001b[0m result \u001b[38;5;241m=\u001b[39m \u001b[38;5;28;01mNone\u001b[39;00m\n\u001b[1;32m   1753\u001b[0m called_always_called_hooks \u001b[38;5;241m=\u001b[39m \u001b[38;5;28mset\u001b[39m()\n",
      "Cell \u001b[0;32mIn[7], line 17\u001b[0m, in \u001b[0;36mSpikingCNN.forward\u001b[0;34m(self, input_image)\u001b[0m\n\u001b[1;32m     15\u001b[0m \u001b[38;5;28;01mdef\u001b[39;00m\u001b[38;5;250m \u001b[39m\u001b[38;5;21mforward\u001b[39m(\u001b[38;5;28mself\u001b[39m, input_image):\n\u001b[1;32m     16\u001b[0m     \u001b[38;5;66;03m# Convert image to spike-wave representation\u001b[39;00m\n\u001b[0;32m---> 17\u001b[0m     spike_wave \u001b[38;5;241m=\u001b[39m \u001b[43mimage_to_spike_wave\u001b[49m\u001b[43m(\u001b[49m\u001b[43minput_image\u001b[49m\u001b[43m,\u001b[49m\u001b[43m \u001b[49m\u001b[43mtime_steps\u001b[49m\u001b[38;5;241;43m=\u001b[39;49m\u001b[38;5;28;43mself\u001b[39;49m\u001b[38;5;241;43m.\u001b[39;49m\u001b[43mtime_steps\u001b[49m\u001b[43m)\u001b[49m  \u001b[38;5;66;03m# shape: [T, C, H, W]\u001b[39;00m\n\u001b[1;32m     19\u001b[0m     \u001b[38;5;66;03m# Add batch dimension if needed: assume input_image shape [1, C, H, W]\u001b[39;00m\n\u001b[1;32m     20\u001b[0m     spike_wave \u001b[38;5;241m=\u001b[39m spike_wave\u001b[38;5;241m.\u001b[39mto(device)\n",
      "Cell \u001b[0;32mIn[6], line 15\u001b[0m, in \u001b[0;36mimage_to_spike_wave\u001b[0;34m(image, time_steps, threshold)\u001b[0m\n\u001b[1;32m     12\u001b[0m spike_times \u001b[38;5;241m=\u001b[39m spike_times\u001b[38;5;241m.\u001b[39mlong()\n\u001b[1;32m     14\u001b[0m \u001b[38;5;66;03m# Create a binary spike-wave tensor\u001b[39;00m\n\u001b[0;32m---> 15\u001b[0m C, H, W \u001b[38;5;241m=\u001b[39m image\u001b[38;5;241m.\u001b[39mshape\n\u001b[1;32m     16\u001b[0m spike_wave \u001b[38;5;241m=\u001b[39m torch\u001b[38;5;241m.\u001b[39mzeros(time_steps, C, H, W)\n\u001b[1;32m     17\u001b[0m \u001b[38;5;28;01mfor\u001b[39;00m t \u001b[38;5;129;01min\u001b[39;00m \u001b[38;5;28mrange\u001b[39m(time_steps):\n",
      "\u001b[0;31mValueError\u001b[0m: too many values to unpack (expected 3)"
     ]
    }
   ],
   "source": [
    "# Step 7: Evaluation Function\n",
    "def evaluate(model, data_loader):\n",
    "    model.eval()\n",
    "    correct = 0\n",
    "    total = 0\n",
    "    with torch.no_grad():\n",
    "        for images, labels in data_loader:\n",
    "            images, labels = images.to(device), labels.to(device)\n",
    "            outputs = []\n",
    "            for img in images:\n",
    "                img = img.unsqueeze(0)\n",
    "                output = model(img)\n",
    "                outputs.append(output)\n",
    "            outputs = torch.cat(outputs, dim=0)\n",
    "            _, predicted = torch.max(outputs.data, 1)\n",
    "            total += labels.size(0)\n",
    "            correct += (predicted == labels).sum().item()\n",
    "    print(f\"Accuracy: {100 * correct / total:.2f}%\")\n",
    "\n",
    "# Setup MNIST test dataset and DataLoader\n",
    "test_dataset = torchvision.datasets.MNIST(root='./data', train=False, download=True, transform=transform_mnist)\n",
    "test_loader = torch.utils.data.DataLoader(test_dataset, batch_size=32, shuffle=False)\n",
    "\n",
    "# Evaluate the model\n",
    "evaluate(model, test_loader)\n"
   ]
  }
 ],
 "metadata": {
  "kernelspec": {
   "display_name": "Python 3",
   "language": "python",
   "name": "python3"
  },
  "language_info": {
   "codemirror_mode": {
    "name": "ipython",
    "version": 3
   },
   "file_extension": ".py",
   "mimetype": "text/x-python",
   "name": "python",
   "nbconvert_exporter": "python",
   "pygments_lexer": "ipython3",
   "version": "3.9.18"
  }
 },
 "nbformat": 4,
 "nbformat_minor": 2
}
